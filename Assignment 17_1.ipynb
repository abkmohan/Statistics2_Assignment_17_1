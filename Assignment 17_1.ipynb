{
 "cells": [
  {
   "cell_type": "code",
   "execution_count": 9,
   "metadata": {},
   "outputs": [
    {
     "ename": "SyntaxError",
     "evalue": "invalid syntax (<ipython-input-9-d897969c065f>, line 16)",
     "output_type": "error",
     "traceback": [
      "\u001b[1;36m  File \u001b[1;32m\"<ipython-input-9-d897969c065f>\"\u001b[1;36m, line \u001b[1;32m16\u001b[0m\n\u001b[1;33m    probability distribution for binomial experiment.\u001b[0m\n\u001b[1;37m                           ^\u001b[0m\n\u001b[1;31mSyntaxError\u001b[0m\u001b[1;31m:\u001b[0m invalid syntax\n"
     ]
    }
   ],
   "source": [
    "#Course: Data Science Masters\n",
    "#Title: Assignment 17.1            \n",
    "#Tool: Jupyter notebook \n",
    "#Author: Krishna A\n",
    "#Date: 20-05-2018 (DD/MM/YYYY)\n",
    "\n",
    "#Problem Statement \n",
    "#   A test is conducted which is consisting of 20 MCQs (multiple choices questions) with\n",
    "#   every MCQ having its four options out of which only one is correct. Determine the\n",
    "#   probability that a person undertaking that test has answered exactly 5 questions wrong.\n",
    "\n",
    "\n",
    "import math as m\n",
    "\n",
    "#probability distribution for binomial experiment. \n",
    "#p(x) = n! / (x! * (n−x)!) * p^x * (1−p)^(n−x) \n",
    "\n",
    "iTotal = 20  #Total MCQs\n",
    "\n",
    "# find probability of answering exactly 5 questions wrong or exactly 15 questions right.\n",
    "x = 15 \n",
    "\n",
    "pCorrectAnswer = 1/4  #Probability of correct answer (1 out of 4 multiple choices)\n",
    "\n",
    "pWrongAnswers = 3/4  #Probability of incorrect answers (3 out of 4 multiple choices)\n",
    "\n",
    "pX = (m.factorial(iTotal) / (m.factorial(x) * m.factorial(iTotal-x))) * pow(pCorrectAnswer, x) * pow(pWrongAnswers, iTotal-x)\n",
    "\n",
    "print(\"The probability that a person undertaking that test has answered exactly 5 questions wrong is \", format(pX, '.10f'))"
   ]
  },
  {
   "cell_type": "code",
   "execution_count": null,
   "metadata": {
    "collapsed": true
   },
   "outputs": [],
   "source": []
  }
 ],
 "metadata": {
  "kernelspec": {
   "display_name": "Python 3",
   "language": "python",
   "name": "python3"
  },
  "language_info": {
   "codemirror_mode": {
    "name": "ipython",
    "version": 3
   },
   "file_extension": ".py",
   "mimetype": "text/x-python",
   "name": "python",
   "nbconvert_exporter": "python",
   "pygments_lexer": "ipython3",
   "version": "3.6.3"
  }
 },
 "nbformat": 4,
 "nbformat_minor": 2
}
